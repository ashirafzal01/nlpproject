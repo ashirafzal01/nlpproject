{
 "cells": [
  {
   "cell_type": "markdown",
   "metadata": {},
   "source": [
    "## Importing necessary libraries"
   ]
  },
  {
   "cell_type": "code",
   "execution_count": 1,
   "metadata": {},
   "outputs": [],
   "source": [
    "import joblib\n",
    "import pandas as pd\n",
    "import numpy as np\n",
    "from sklearn.metrics.pairwise import cosine_similarity\n",
    "import re\n",
    "import nltk\n",
    "from nltk.corpus import stopwords"
   ]
  },
  {
   "cell_type": "markdown",
   "metadata": {},
   "source": [
    "## Loading the trained model and TF-IDF vectorizer"
   ]
  },
  {
   "cell_type": "code",
   "execution_count": 2,
   "metadata": {},
   "outputs": [
    {
     "name": "stdout",
     "output_type": "stream",
     "text": [
      "Article category prediction model loaded.\n",
      "TF-IDF vectorizer loaded.\n"
     ]
    }
   ],
   "source": [
    "lr = joblib.load(\"./global_models_and_dataset/news_category_model.pkl\")\n",
    "print(\"Article category prediction model loaded.\")\n",
    "\n",
    "tfidf = joblib.load(\"./global_models_and_dataset/tfidf_vectorizer.pkl\")\n",
    "print(\"TF-IDF vectorizer loaded.\")"
   ]
  },
  {
   "cell_type": "markdown",
   "metadata": {},
   "source": [
    "# Prediction and Recommendation"
   ]
  },
  {
   "cell_type": "code",
   "execution_count": 3,
   "metadata": {},
   "outputs": [
    {
     "name": "stderr",
     "output_type": "stream",
     "text": [
      "[nltk_data] Downloading package stopwords to\n",
      "[nltk_data]     C:\\Users\\rehma\\AppData\\Roaming\\nltk_data...\n",
      "[nltk_data]   Package stopwords is already up-to-date!\n"
     ]
    }
   ],
   "source": [
    "# Download stopwords\n",
    "nltk.download('stopwords')\n",
    "stop_words = set(stopwords.words('english'))\n",
    "\n",
    "def preprocess_text(text):\n",
    "    # Convert to lowercase\n",
    "    text = text.lower()\n",
    "    # Remove special characters and numbers\n",
    "    text = re.sub(r'[^a-zA-Z\\s]', '', text)\n",
    "    # Remove extra spaces\n",
    "    text = re.sub(r'\\s+', ' ', text).strip()\n",
    "    # Remove stopwords\n",
    "    text = ' '.join(word for word in text.split() if word not in stop_words)\n",
    "    return text"
   ]
  },
  {
   "cell_type": "code",
   "execution_count": 4,
   "metadata": {},
   "outputs": [],
   "source": [
    "def recommend_articles(input_text, top_n=3):\n",
    "    # Preprocess the input text\n",
    "    cleaned_input_text = preprocess_text(input_text)\n",
    "\n",
    "    # Transform the input text using the global TF-IDF vectorizer\n",
    "    input_vector = tfidf.transform([cleaned_input_text])\n",
    "\n",
    "    # Predict the category using the trained model\n",
    "    predicted_category = lr.predict(input_vector)[0]\n",
    "    print(\"Prdicted category:\", predicted_category)\n",
    "\n",
    "    # Load the dataset for the predicted category\n",
    "    category_df = pd.read_csv(f'./categorized_models_and_datasets/cat_datasets/category_{predicted_category}.csv')\n",
    "\n",
    "    # Load the pre-saved TF-IDF matrix for the predicted category\n",
    "    category_tfidf_matrix = joblib.load(f'./categorized_models_and_datasets/cat_tfidf_matrix/category_{predicted_category}_tfidf.pkl')\n",
    "\n",
    "    category_tfidf_vector = joblib.load(f'./categorized_models_and_datasets/cat_tfidf_vect/category_{predicted_category}_tfidf_vectorizer.pkl')\n",
    "\n",
    "    input_vector_new = category_tfidf_vector.transform([cleaned_input_text])\n",
    "\n",
    "    # Calculate cosine similarity between the input vector and the category's TF-IDF matrix\n",
    "    similarities = cosine_similarity(input_vector_new, category_tfidf_matrix)\n",
    "\n",
    "    # Get the indices of the top N most similar articles\n",
    "    top_indices = np.argsort(similarities.flatten())[-top_n:][::-1]\n",
    "\n",
    "    # Fetch the recommended articles based on top indices\n",
    "    recommended_articles = category_df.iloc[top_indices]\n",
    "\n",
    "    return recommended_articles, predicted_category"
   ]
  },
  {
   "cell_type": "markdown",
   "metadata": {},
   "source": [
    "### Example usage of recommendation"
   ]
  },
  {
   "cell_type": "code",
   "execution_count": 5,
   "metadata": {},
   "outputs": [],
   "source": [
    "sample_text = \"The stock market has seen volatility, but experts predict growth in tech stocks and sustainable investing. Investors are advised to diversify their portfolios.\"\n"
   ]
  },
  {
   "cell_type": "code",
   "execution_count": 6,
   "metadata": {},
   "outputs": [
    {
     "name": "stdout",
     "output_type": "stream",
     "text": [
      "Prdicted category: personal finance\n"
     ]
    }
   ],
   "source": [
    "recommendations, predicted_category = recommend_articles(sample_text)"
   ]
  },
  {
   "cell_type": "code",
   "execution_count": 7,
   "metadata": {},
   "outputs": [
    {
     "data": {
      "text/plain": [
       "'personal finance'"
      ]
     },
     "execution_count": 7,
     "metadata": {},
     "output_type": "execute_result"
    }
   ],
   "source": [
    "predicted_category"
   ]
  },
  {
   "cell_type": "code",
   "execution_count": 8,
   "metadata": {},
   "outputs": [
    {
     "name": "stdout",
     "output_type": "stream",
     "text": [
      "Recommendation 1: personal finance\n",
      "junk bonds learn day trading learn how to invest learn to invest learning to invest learn to invest money list of stocks listed companies longterm investments losers macd madoff market data market data and information market data history market information market maker market news market reports market research market statistics market stock trading market summary markets and investments money magazine money to invest money trading stocks money 101 mutual funds invest online brokers online stock trading information online swing trading paper trading personal finance piercing candlestick pattern portfolio theory pre-market analysis price history price volatility prices of stocks profitability public companies public company public company research publicly traded stocks purchase stocks quote server quote summary real time quotes reversal rich save money save your money selecting stocks shorting stocks short selling stocks split stock stochastics stock analysis stock charts stock dividends stock information stock investment stock investment research stock market stockmarket stock market analysis stock market charts stock market commentary stock market data stock market data feed stock market data information stock market education stock market historical data stock market history stock market info stock market information stock market investing for dummies stock market performance stock market price stock market prices stock market quote stock market research stock market reports stock market results stock market stages stock market technical analysis stock market tips stock market trading data stock market trading data provided stock market trend analysis stock price history stock prices stock quote stock quote history stock quotes stock performance stock price quote stock research stock sectors stock splits stock terms stock trade stock trader stock trades stock trading information stock trading pick stock trading information stock trading seminar stocks analysis stocks and investing stocks for dummies stocks technical analysis stocks to invest streaming charts suze orman suzeorman swing trading tarp technical analysis technical analysis of stocks timing stock market investment tips top gainers top losers tracking stocks traded trading analysis trading markets trading periods trading results trading seminar trading systems trend trading type of investor valuation range valuations value of old certificates value screen wall street warren buffett ways to invest money wealth world business world stock market why do people invest why invest in stocks your money\n",
      "\n",
      "Recommendation 2: personal finance\n",
      "Investing in foreign markets has become very easy now, Globalise CEO Viraj Nanda tells ET Wealth.How easy is it to start investing in foreign stocks sitting in India?An investor must first register with a brokerage house and get his KYC done. The process is entirely online and requires only your PAN and Aadhaar cards. After the details are verified, the customer can transfer money from his bank account to his brokerage account and start trading. Under the Liberalised Remittance Scheme, there is a cap of $2.5 lakh (roughly Rs 1.85 crore) per individual in a financial year.How does Globalise help one invest?Globalise is a platform that provides Indian investors access to the US markets. We have tied up with a US-based brokerage account. When an investor opens an account with us, an underlying account is opened with the broker. When you transfer money for trading, the money goes directly into the brokerage account which you can then use for trading in stocks and funds.Investing overseas is daunting. What is the protection for an investor?In the US, if a customer invests in a listed company through an SEC-regulated brokerage account, he is protected up to $5,00,000 (roughly Rs 3.7 crore) against any wrongdoing by the brokerage house or account provider. This protection is not only for US residents but all investors.Also read: Investing in US, foreign stocks is necessary for portfolio diversification: 7 things to keep in mindAlso read: Investing in US, foreign stocks? Know how buying, selling these scrips are taxed in IndiaThe US market is massive. Won’t an investor will get lost and confused?We have created baskets of stocks and funds to simplify the investors’ decision making. These curated baskets (called Globes) are built around specific goals and themes. We have portfolios built around biotechnology, future innovation and clean energy. These portfolios have been curated looking at the demand for high-growth companies involved in biotech research, clean energy and technological innovation.Some curated portfolios So, these portfolios are like funds?These curated portfolios are built by our research team where investors can invest in a selected list of securities. The investor can view historical returns and select a portfolio that aligns with his investment objectives. Once an investor purchases the Globe, the stocks or ETFs in that Globe are transferred to his demat account. ETF-based portfolios may have 5-8 ETFs. Some stock-based portfolios will usually have 10-20 stocks, but some have about 50-70 stocks. It’s a discretionary portfolio where the investor can trade in the stocks as he likes.Doesn’t a portfolio become too huge if there are 50-70 stocks in it?The US stock market allows fractional ownership of stocks. So even if you have $5 (Rs 370), you can buy about 0.0015 share of Amazon which is trading at over $3,300 (Rs 2.44 lakh) per share. This fractional ownership allows us to build thematic portfolios with a larger number of securities without needing high minimum ticket sizes. The minimum ticket size for all portfolios on our platform is $100 (Rs 7,400).\n",
      "\n",
      "Recommendation 3: personal finance\n",
      "profit hunters | david hunt 52 week high 52 week low 52 week lows aaii aaii.com aaii journal aaii local chapter aaii sentiment survey absolute returns active trader active traders after hours markets american association of individual investors amex analyst analyst recommendations analyze stocks annual reports annual returns assets bear market bear markets bear market definition bear stock market bearish benefits of trading bernard madoff bernie madoff best online trading best place to invest best place to invest money best stocks to buy best way to invest best way to invest money better investing blue chip bluechip board of directors bollinger bands bond bonds bottom breakaway gaps breakout breakouts broker broker dealer brokers brokerage brokerage firm buffettology bull market bullish bull markets bull or bear bulls or bears business and finance business and financial news business information business innovation business news buy sell recommendation buying stocks buying stocks online candlestick candlestick chart candlestick charts candlestick patterns capital appreciation capital markets cboe chart charts chicago board options exchange closing prices commission commodities company earnings company profile company profiles company research company research information company share price continuation gaps corporation data information market stock summary day trader day traders day trading day trading information day trading market data day trading stock market day trading stock picks day trading stocks daytrader declines derivative derivatives direct access day trading direct investment djia doji dow jones dow jones index dow jones industrial average downgrades drip investing dynamic stock market content ebitda engulfing etf exchange traded funds exhaustion gaps expert speaks financial information financial investments finance news financial news financial reports free real time data free real time quotes fundamental analysis fundamental data fundamental financial data get stock market data good stock to invest hammer pattern harami help understanding stocks historic market data historical data historical intraday data historical market data historical quotes historical stock data historical stock market data historical stock prices historical stock quote historical stock quotes history facts stock market history market stock history of stock market history stock market how to buy stocks how to day trade stocks how to invest how to invest in shares how to invest in oil how to invest in stock how to invest in stocks how to invest money how to invest online how to invest your money how to invest wisely how to make money how to pick stocks how to read stocks how to sell stocks how to trade stocks how to trade stocks online income investing income investment index investing insider trading report insider trading tip invest in stock market invest in stock invest in stocks invest in stock online invest in the stock market invest stock market investing for beginners investing forum investing gurus investing in stocks investing like warren buffett investing stock market investing stock market advice investing tip stock market investment concepts investment faqs investment in stock investment income investment information investment opportunity investment services investment timing investment tips investor advisory service investor awareness investor sentiment investor type jim cramer\n",
      "\n"
     ]
    }
   ],
   "source": [
    "for i, (index, row) in enumerate(recommendations.iterrows(), 1):\n",
    "    print(f\"Recommendation {i}: {row['target']}\")\n",
    "    print(f\"{row['text']}\\n\")"
   ]
  }
 ],
 "metadata": {
  "kernelspec": {
   "display_name": "Python 3",
   "language": "python",
   "name": "python3"
  },
  "language_info": {
   "codemirror_mode": {
    "name": "ipython",
    "version": 3
   },
   "file_extension": ".py",
   "mimetype": "text/x-python",
   "name": "python",
   "nbconvert_exporter": "python",
   "pygments_lexer": "ipython3",
   "version": "3.11.0"
  }
 },
 "nbformat": 4,
 "nbformat_minor": 2
}
